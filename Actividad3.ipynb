{
  "nbformat": 4,
  "nbformat_minor": 0,
  "metadata": {
    "colab": {
      "name": "Actividad3.ipynb",
      "provenance": [],
      "authorship_tag": "ABX9TyPhs3YJ1NDNwcWeKZL++jNf",
      "include_colab_link": true
    },
    "kernelspec": {
      "name": "python3",
      "display_name": "Python 3"
    }
  },
  "cells": [
    {
      "cell_type": "markdown",
      "metadata": {
        "id": "view-in-github",
        "colab_type": "text"
      },
      "source": [
        "<a href=\"https://colab.research.google.com/github/FelicianoRobles/FisicaComputacional1/blob/master/Actividad3.ipynb\" target=\"_parent\"><img src=\"https://colab.research.google.com/assets/colab-badge.svg\" alt=\"Open In Colab\"/></a>"
      ]
    },
    {
      "cell_type": "markdown",
      "metadata": {
        "id": "VF_bjckoOUfx"
      },
      "source": [
        "# **Actividad3**"
      ]
    },
    {
      "cell_type": "markdown",
      "metadata": {
        "id": "FgIitSTXOkNT"
      },
      "source": [
        "## **Paso 1**\r\n",
        "Cargar bibliotecas, definir un nuevo DataFrame \"dist\", leyendo datos climatologicos, en este caso de Los Cabos, Baja California Sur."
      ]
    },
    {
      "cell_type": "code",
      "metadata": {
        "id": "PB5ADfh6mmlZ"
      },
      "source": [
        "import pandas as pd\r\n",
        "import numpy as np\r\n",
        "\r\n",
        "url = 'https://raw.githubusercontent.com/FelicianoRobles/FisicaComputacional1/master/Actividad3/3005.txt'\r\n",
        "# Definimos los nombres de las columnas\r\n",
        "# El archivo tiene códigos ASCII extendido (Español), encoding='cp1251' Windows (Europa Occidental)\r\n",
        "# El separador de datos es de uno o más espacios, sep='\\s+'\r\n",
        "# Se brincará los primeros 19 renglones y el último, afirmamos que no nay encabezado\r\n",
        "# Se procesan los datos utilizando Python, engine='python' \r\n",
        "my_cols = ['Fecha', 'Precip(MM)', 'Evap(MM)', 'Tmax(°C)', 'Tmin(°C)']\r\n",
        "df_dist = pd.read_csv(url, names=my_cols, encoding='cp1251', sep='\\s+', header=None, skiprows=19, skipfooter=1, engine='python')"
      ],
      "execution_count": null,
      "outputs": []
    },
    {
      "cell_type": "markdown",
      "metadata": {
        "id": "vNjPpn8XY09X"
      },
      "source": [
        "## **Paso 2**\r\n",
        "Verificar que los renglones seleccionados sean los que solo tengan datos diarios de la estacion meteorologica"
      ]
    },
    {
      "cell_type": "code",
      "metadata": {
        "id": "loAi9cekOzn5",
        "colab": {
          "base_uri": "https://localhost:8080/"
        },
        "outputId": "9a2d2221-a3a2-4bd1-8a1f-4873f19b6553"
      },
      "source": [
        "# Verificamos el encabezado y cola del dataframe\r\n",
        "print(\"\\033[1m Encabezado \\033[0m\".center(40,\" \"))\r\n",
        "print(df_dist.head(),end=\"\\n\\n\")\r\n",
        "print(\"\\033[1m Cola \\033[0m\".center(40,\" \"))\r\n",
        "print(df_dist.tail(),end=\"\\n\\n\")"
      ],
      "execution_count": null,
      "outputs": [
        {
          "output_type": "stream",
          "text": [
            "          \u001b[1m Encabezado \u001b[0m          \n",
            "        Fecha Precip(MM) Evap(MM) Tmax(°C) Tmin(°C)\n",
            "0  01/06/1937          0     Nulo       33       11\n",
            "1  02/06/1937          0     Nulo       33       11\n",
            "2  03/06/1937          0     Nulo       33       11\n",
            "3  04/06/1937          0     Nulo       32       11\n",
            "4  05/06/1937          0     Nulo       33       12\n",
            "\n",
            "             \u001b[1m Cola \u001b[0m             \n",
            "            Fecha Precip(MM) Evap(MM) Tmax(°C) Tmin(°C)\n",
            "25846  27/12/2017          0      4.1       32       19\n",
            "25847  28/12/2017          0      3.5       31       18\n",
            "25848  29/12/2017          0      4.4       32       19\n",
            "25849  30/12/2017          0      2.5       28       20\n",
            "25850  31/12/2017          0      3.3       27       20\n",
            "\n"
          ],
          "name": "stdout"
        }
      ]
    },
    {
      "cell_type": "markdown",
      "metadata": {
        "id": "-VOTO8p_6oWS"
      },
      "source": [
        "# **Paso 3**\r\n",
        "Se explora el dataframe con varias acciones"
      ]
    },
    {
      "cell_type": "markdown",
      "metadata": {
        "id": "DwpgSc8u62O6"
      },
      "source": [
        "•Se imprime las primeras 10 lineas encabezado y cola del dataframe"
      ]
    },
    {
      "cell_type": "code",
      "metadata": {
        "id": "nQrvt1JsO28X",
        "colab": {
          "base_uri": "https://localhost:8080/"
        },
        "outputId": "b284f713-0615-4bf5-d889-06e34ad7edbc"
      },
      "source": [
        "# Imprimir los primeros 10 datos del encabezado del dataframe\r\n",
        "print(\"\\033[1m Encabezado \\033[0m\".center(40,\" \")) # Centrado y negritas\r\n",
        "print(df_dist.head(10),end=\"\\n\\n\")\r\n",
        "# Imprimir los primeros 10 datos de la cola del dataframe\r\n",
        "print(\"\\033[1m Cola \\033[0m\".center(40,\" \")) # Centrado y negritas\r\n",
        "print(df_dist.tail(10),end=\"\\n\\n\")"
      ],
      "execution_count": null,
      "outputs": [
        {
          "output_type": "stream",
          "text": [
            "          \u001b[1m Encabezado \u001b[0m          \n",
            "        Fecha Precip(MM) Evap(MM) Tmax(°C) Tmin(°C)\n",
            "0  01/06/1937          0     Nulo       33       11\n",
            "1  02/06/1937          0     Nulo       33       11\n",
            "2  03/06/1937          0     Nulo       33       11\n",
            "3  04/06/1937          0     Nulo       32       11\n",
            "4  05/06/1937          0     Nulo       33       12\n",
            "5  06/06/1937          0     Nulo       33       12\n",
            "6  07/06/1937          0     Nulo       30       11\n",
            "7  08/06/1937          0     Nulo       30       10\n",
            "8  09/06/1937          0     Nulo       30       10\n",
            "9  10/06/1937          0     Nulo       30       10\n",
            "\n",
            "             \u001b[1m Cola \u001b[0m             \n",
            "            Fecha Precip(MM) Evap(MM) Tmax(°C) Tmin(°C)\n",
            "25841  22/12/2017          0        3       28       18\n",
            "25842  23/12/2017          0      3.8       28       17\n",
            "25843  24/12/2017          0      2.2       30       18\n",
            "25844  25/12/2017          0      2.1       32       17\n",
            "25845  26/12/2017          0      4.6       31       18\n",
            "25846  27/12/2017          0      4.1       32       19\n",
            "25847  28/12/2017          0      3.5       31       18\n",
            "25848  29/12/2017          0      4.4       32       19\n",
            "25849  30/12/2017          0      2.5       28       20\n",
            "25850  31/12/2017          0      3.3       27       20\n",
            "\n"
          ],
          "name": "stdout"
        }
      ]
    },
    {
      "cell_type": "markdown",
      "metadata": {
        "id": "NC1C-Mv37PCt"
      },
      "source": [
        "•Se consigue las dimensiones del dataframe"
      ]
    },
    {
      "cell_type": "code",
      "metadata": {
        "colab": {
          "base_uri": "https://localhost:8080/"
        },
        "id": "rFqzN7-zO5hn",
        "outputId": "aa335199-d31d-4553-e0a0-10436098e104"
      },
      "source": [
        "# Dimension del dataframe\r\n",
        "print(\"\\033[1m La dimension del dataframe es:\\033[0m\",df_dist.shape) # Negritas"
      ],
      "execution_count": null,
      "outputs": [
        {
          "output_type": "stream",
          "text": [
            "\u001b[1m La dimension del dataframe es:\u001b[0m (17879, 5)\n"
          ],
          "name": "stdout"
        }
      ]
    },
    {
      "cell_type": "markdown",
      "metadata": {
        "id": "IY1zVrhW7XIe"
      },
      "source": [
        "•Se consigue como es el contenido del dataframe"
      ]
    },
    {
      "cell_type": "code",
      "metadata": {
        "colab": {
          "base_uri": "https://localhost:8080/"
        },
        "id": "HNiDh912O-VB",
        "outputId": "1c16679f-75ba-48e2-9733-9c1c068528cb"
      },
      "source": [
        "print(\"\\033[1m Contenido del dataframe \\033[0m\".center(40,\" \")) # Negritas y centrado\r\n",
        "df_dist.info()"
      ],
      "execution_count": null,
      "outputs": [
        {
          "output_type": "stream",
          "text": [
            "   \u001b[1m Contenido del dataframe \u001b[0m    \n",
            "<class 'pandas.core.frame.DataFrame'>\n",
            "RangeIndex: 17879 entries, 0 to 17878\n",
            "Data columns (total 5 columns):\n",
            " #   Column  Non-Null Count  Dtype \n",
            "---  ------  --------------  ----- \n",
            " 0   Fecha   17879 non-null  object\n",
            " 1   Precip  17879 non-null  object\n",
            " 2   Evap    17879 non-null  object\n",
            " 3   Tmax    17879 non-null  object\n",
            " 4   Tmin    17879 non-null  object\n",
            "dtypes: object(5)\n",
            "memory usage: 698.5+ KB\n"
          ],
          "name": "stdout"
        }
      ]
    },
    {
      "cell_type": "markdown",
      "metadata": {
        "id": "ODzHNl4C7jef"
      },
      "source": [
        "•Se hace una copia del dataframe para asi poder modificarlo"
      ]
    },
    {
      "cell_type": "code",
      "metadata": {
        "colab": {
          "base_uri": "https://localhost:8080/",
          "height": 204
        },
        "id": "Vdto1NaxSQ8G",
        "outputId": "0a68dd00-92d3-4888-f93a-a3347601fddc"
      },
      "source": [
        "df_copia = df_dist.copy() # Se hace una copia del dataframe\r\n",
        "df_copia.head() # Se imprime el encabezado"
      ],
      "execution_count": null,
      "outputs": [
        {
          "output_type": "execute_result",
          "data": {
            "text/html": [
              "<div>\n",
              "<style scoped>\n",
              "    .dataframe tbody tr th:only-of-type {\n",
              "        vertical-align: middle;\n",
              "    }\n",
              "\n",
              "    .dataframe tbody tr th {\n",
              "        vertical-align: top;\n",
              "    }\n",
              "\n",
              "    .dataframe thead th {\n",
              "        text-align: right;\n",
              "    }\n",
              "</style>\n",
              "<table border=\"1\" class=\"dataframe\">\n",
              "  <thead>\n",
              "    <tr style=\"text-align: right;\">\n",
              "      <th></th>\n",
              "      <th>Fecha</th>\n",
              "      <th>Precip(MM)</th>\n",
              "      <th>Evap(MM)</th>\n",
              "      <th>Tmax(°C)</th>\n",
              "      <th>Tmin(°C)</th>\n",
              "    </tr>\n",
              "  </thead>\n",
              "  <tbody>\n",
              "    <tr>\n",
              "      <th>0</th>\n",
              "      <td>01/06/1937</td>\n",
              "      <td>0</td>\n",
              "      <td>Nulo</td>\n",
              "      <td>33</td>\n",
              "      <td>11</td>\n",
              "    </tr>\n",
              "    <tr>\n",
              "      <th>1</th>\n",
              "      <td>02/06/1937</td>\n",
              "      <td>0</td>\n",
              "      <td>Nulo</td>\n",
              "      <td>33</td>\n",
              "      <td>11</td>\n",
              "    </tr>\n",
              "    <tr>\n",
              "      <th>2</th>\n",
              "      <td>03/06/1937</td>\n",
              "      <td>0</td>\n",
              "      <td>Nulo</td>\n",
              "      <td>33</td>\n",
              "      <td>11</td>\n",
              "    </tr>\n",
              "    <tr>\n",
              "      <th>3</th>\n",
              "      <td>04/06/1937</td>\n",
              "      <td>0</td>\n",
              "      <td>Nulo</td>\n",
              "      <td>32</td>\n",
              "      <td>11</td>\n",
              "    </tr>\n",
              "    <tr>\n",
              "      <th>4</th>\n",
              "      <td>05/06/1937</td>\n",
              "      <td>0</td>\n",
              "      <td>Nulo</td>\n",
              "      <td>33</td>\n",
              "      <td>12</td>\n",
              "    </tr>\n",
              "  </tbody>\n",
              "</table>\n",
              "</div>"
            ],
            "text/plain": [
              "        Fecha Precip(MM) Evap(MM) Tmax(°C) Tmin(°C)\n",
              "0  01/06/1937          0     Nulo       33       11\n",
              "1  02/06/1937          0     Nulo       33       11\n",
              "2  03/06/1937          0     Nulo       33       11\n",
              "3  04/06/1937          0     Nulo       32       11\n",
              "4  05/06/1937          0     Nulo       33       12"
            ]
          },
          "metadata": {
            "tags": []
          },
          "execution_count": 74
        }
      ]
    },
    {
      "cell_type": "markdown",
      "metadata": {
        "id": "9m1ruJG79ElV"
      },
      "source": [
        "•Se reemplaza los datos que contienen 'Nulo' y en su lugar se pone un espacio en blanco"
      ]
    },
    {
      "cell_type": "code",
      "metadata": {
        "colab": {
          "base_uri": "https://localhost:8080/",
          "height": 204
        },
        "id": "O9B7UDN7R5w0",
        "outputId": "ad992890-1fe5-4e3f-ff14-ecebbfeed727"
      },
      "source": [
        "# Reemplazar Nulo por un espacio en blanco\r\n",
        "str_Nulo = 'Nulo'\r\n",
        "df_copia2 = df_copia.replace(to_replace=str_Nulo, value='', regex=True)\r\n",
        "df_copia2.head()"
      ],
      "execution_count": null,
      "outputs": [
        {
          "output_type": "execute_result",
          "data": {
            "text/html": [
              "<div>\n",
              "<style scoped>\n",
              "    .dataframe tbody tr th:only-of-type {\n",
              "        vertical-align: middle;\n",
              "    }\n",
              "\n",
              "    .dataframe tbody tr th {\n",
              "        vertical-align: top;\n",
              "    }\n",
              "\n",
              "    .dataframe thead th {\n",
              "        text-align: right;\n",
              "    }\n",
              "</style>\n",
              "<table border=\"1\" class=\"dataframe\">\n",
              "  <thead>\n",
              "    <tr style=\"text-align: right;\">\n",
              "      <th></th>\n",
              "      <th>Fecha</th>\n",
              "      <th>Precip(MM)</th>\n",
              "      <th>Evap(MM)</th>\n",
              "      <th>Tmax(°C)</th>\n",
              "      <th>Tmin(°C)</th>\n",
              "    </tr>\n",
              "  </thead>\n",
              "  <tbody>\n",
              "    <tr>\n",
              "      <th>0</th>\n",
              "      <td>01/06/1937</td>\n",
              "      <td>0</td>\n",
              "      <td></td>\n",
              "      <td>33</td>\n",
              "      <td>11</td>\n",
              "    </tr>\n",
              "    <tr>\n",
              "      <th>1</th>\n",
              "      <td>02/06/1937</td>\n",
              "      <td>0</td>\n",
              "      <td></td>\n",
              "      <td>33</td>\n",
              "      <td>11</td>\n",
              "    </tr>\n",
              "    <tr>\n",
              "      <th>2</th>\n",
              "      <td>03/06/1937</td>\n",
              "      <td>0</td>\n",
              "      <td></td>\n",
              "      <td>33</td>\n",
              "      <td>11</td>\n",
              "    </tr>\n",
              "    <tr>\n",
              "      <th>3</th>\n",
              "      <td>04/06/1937</td>\n",
              "      <td>0</td>\n",
              "      <td></td>\n",
              "      <td>32</td>\n",
              "      <td>11</td>\n",
              "    </tr>\n",
              "    <tr>\n",
              "      <th>4</th>\n",
              "      <td>05/06/1937</td>\n",
              "      <td>0</td>\n",
              "      <td></td>\n",
              "      <td>33</td>\n",
              "      <td>12</td>\n",
              "    </tr>\n",
              "  </tbody>\n",
              "</table>\n",
              "</div>"
            ],
            "text/plain": [
              "        Fecha Precip(MM) Evap(MM) Tmax(°C) Tmin(°C)\n",
              "0  01/06/1937          0                33       11\n",
              "1  02/06/1937          0                33       11\n",
              "2  03/06/1937          0                33       11\n",
              "3  04/06/1937          0                32       11\n",
              "4  05/06/1937          0                33       12"
            ]
          },
          "metadata": {
            "tags": []
          },
          "execution_count": 76
        }
      ]
    },
    {
      "cell_type": "markdown",
      "metadata": {
        "id": "pfSTt_jf9mke"
      },
      "source": [
        "•Se convierten los datos a datos numericos, mas especificamente, flotantes"
      ]
    },
    {
      "cell_type": "code",
      "metadata": {
        "colab": {
          "base_uri": "https://localhost:8080/"
        },
        "id": "iH_nbBfUH5W-",
        "outputId": "423bc8c6-4a0e-41b3-dcfe-7167463096e5"
      },
      "source": [
        "# Se convierten a números flotantes \r\n",
        "cols_list = ['Precip(MM)', 'Evap(MM)', 'Tmax(°C)', 'Tmin(°C)']\r\n",
        "for cols in cols_list:\r\n",
        "  df_copia2[cols] = pd.to_numeric(df_copia2[cols], errors='coerce')\r\n",
        "df_copia2.info()"
      ],
      "execution_count": null,
      "outputs": [
        {
          "output_type": "stream",
          "text": [
            "<class 'pandas.core.frame.DataFrame'>\n",
            "RangeIndex: 25851 entries, 0 to 25850\n",
            "Data columns (total 5 columns):\n",
            " #   Column      Non-Null Count  Dtype  \n",
            "---  ------      --------------  -----  \n",
            " 0   Fecha       25851 non-null  object \n",
            " 1   Precip(MM)  25828 non-null  float64\n",
            " 2   Evap(MM)    6113 non-null   float64\n",
            " 3   Tmax(°C)    24972 non-null  float64\n",
            " 4   Tmin(°C)    24963 non-null  float64\n",
            "dtypes: float64(4), object(1)\n",
            "memory usage: 1009.9+ KB\n"
          ],
          "name": "stdout"
        }
      ]
    },
    {
      "cell_type": "markdown",
      "metadata": {
        "id": "jUE3erF2Khkv"
      },
      "source": [
        "•Se contrasta la informacion del dataframe modificado"
      ]
    },
    {
      "cell_type": "code",
      "metadata": {
        "colab": {
          "base_uri": "https://localhost:8080/"
        },
        "id": "3Yife_HdSXBe",
        "outputId": "7f054a56-8e05-456b-c7a2-7ed176787db5"
      },
      "source": [
        "# Imprimimos la información actualizada del dataframe\r\n",
        "print(\"\\033[1m Contenido del dataframe actualizado \\033[0m\".center(40,\" \"))\r\n",
        "df_copia2.info()\r\n",
        "print(df_copia2.head())"
      ],
      "execution_count": null,
      "outputs": [
        {
          "output_type": "stream",
          "text": [
            "\u001b[1m Contenido del dataframe actualizado \u001b[0m\n",
            "<class 'pandas.core.frame.DataFrame'>\n",
            "RangeIndex: 25851 entries, 0 to 25850\n",
            "Data columns (total 5 columns):\n",
            " #   Column      Non-Null Count  Dtype  \n",
            "---  ------      --------------  -----  \n",
            " 0   Fecha       25851 non-null  object \n",
            " 1   Precip(MM)  25828 non-null  float64\n",
            " 2   Evap(MM)    6113 non-null   float64\n",
            " 3   Tmax(°C)    24972 non-null  float64\n",
            " 4   Tmin(°C)    24963 non-null  float64\n",
            "dtypes: float64(4), object(1)\n",
            "memory usage: 1009.9+ KB\n",
            "        Fecha  Precip(MM)  Evap(MM)  Tmax(°C)  Tmin(°C)\n",
            "0  01/06/1937         0.0       NaN      33.0      11.0\n",
            "1  02/06/1937         0.0       NaN      33.0      11.0\n",
            "2  03/06/1937         0.0       NaN      33.0      11.0\n",
            "3  04/06/1937         0.0       NaN      32.0      11.0\n",
            "4  05/06/1937         0.0       NaN      33.0      12.0\n"
          ],
          "name": "stdout"
        }
      ]
    },
    {
      "cell_type": "markdown",
      "metadata": {
        "id": "3QV3DpJTKtVe"
      },
      "source": [
        "•Se cuenta el numero de datos faltantes en las variables"
      ]
    },
    {
      "cell_type": "code",
      "metadata": {
        "colab": {
          "base_uri": "https://localhost:8080/"
        },
        "id": "62mGet5rKxcF",
        "outputId": "f8d8821a-a5d7-456d-de98-363980f7d50f"
      },
      "source": [
        "# De la instrucción anterior, vemos que hay valores faltantes. Sumamos los valores nulos. \r\n",
        "df_copia2.isnull().sum()"
      ],
      "execution_count": null,
      "outputs": [
        {
          "output_type": "execute_result",
          "data": {
            "text/plain": [
              "Fecha             0\n",
              "Precip(MM)       23\n",
              "Evap(MM)      19738\n",
              "Tmax(°C)        879\n",
              "Tmin(°C)        888\n",
              "dtype: int64"
            ]
          },
          "metadata": {
            "tags": []
          },
          "execution_count": 85
        }
      ]
    },
    {
      "cell_type": "markdown",
      "metadata": {
        "id": "6YEHaTDbLFeJ"
      },
      "source": [
        "•Se imprime el encabezado y cola del dataframe modificado"
      ]
    },
    {
      "cell_type": "code",
      "metadata": {
        "colab": {
          "base_uri": "https://localhost:8080/"
        },
        "id": "ybbAz9FPLFqy",
        "outputId": "7ef9470c-4d44-4a0e-d237-f33a885a7942"
      },
      "source": [
        "# Imprimir el encabezado del dataframe modificado\r\n",
        "print(\"\\033[1m Encabezado \\033[0m\".center(40,\" \")) # Centrado y negritas\r\n",
        "print(df_copia2.head(),end=\"\\n\\n\")\r\n",
        "# Imprimir la cola del dataframe modificado\r\n",
        "print(\"\\033[1m Cola \\033[0m\".center(40,\" \")) # Centrado y negritas\r\n",
        "print(df_copia2.tail(),end=\"\\n\\n\")"
      ],
      "execution_count": null,
      "outputs": [
        {
          "output_type": "stream",
          "text": [
            "          \u001b[1m Encabezado \u001b[0m          \n",
            "        Fecha  Precip(MM)  Evap(MM)  Tmax(°C)  Tmin(°C)\n",
            "0  01/06/1937         0.0       NaN      33.0      11.0\n",
            "1  02/06/1937         0.0       NaN      33.0      11.0\n",
            "2  03/06/1937         0.0       NaN      33.0      11.0\n",
            "3  04/06/1937         0.0       NaN      32.0      11.0\n",
            "4  05/06/1937         0.0       NaN      33.0      12.0\n",
            "\n",
            "             \u001b[1m Cola \u001b[0m             \n",
            "            Fecha  Precip(MM)  Evap(MM)  Tmax(°C)  Tmin(°C)\n",
            "25846  27/12/2017         0.0       4.1      32.0      19.0\n",
            "25847  28/12/2017         0.0       3.5      31.0      18.0\n",
            "25848  29/12/2017         0.0       4.4      32.0      19.0\n",
            "25849  30/12/2017         0.0       2.5      28.0      20.0\n",
            "25850  31/12/2017         0.0       3.3      27.0      20.0\n",
            "\n"
          ],
          "name": "stdout"
        }
      ]
    },
    {
      "cell_type": "markdown",
      "metadata": {
        "id": "Rj-5dEewL1pW"
      },
      "source": [
        "•Se realiza una estadistica basica de las variables numericas del dataframe modificado"
      ]
    },
    {
      "cell_type": "code",
      "metadata": {
        "colab": {
          "base_uri": "https://localhost:8080/",
          "height": 297
        },
        "id": "W4LxtPjpL13m",
        "outputId": "c68d97fb-470c-43a7-aaad-26514c58bf46"
      },
      "source": [
        "# Un análisis estadístico breve de las variables numéricas redondeado a 2 cifras significativas\r\n",
        "df_copia2.describe().round(2)"
      ],
      "execution_count": null,
      "outputs": [
        {
          "output_type": "execute_result",
          "data": {
            "text/html": [
              "<div>\n",
              "<style scoped>\n",
              "    .dataframe tbody tr th:only-of-type {\n",
              "        vertical-align: middle;\n",
              "    }\n",
              "\n",
              "    .dataframe tbody tr th {\n",
              "        vertical-align: top;\n",
              "    }\n",
              "\n",
              "    .dataframe thead th {\n",
              "        text-align: right;\n",
              "    }\n",
              "</style>\n",
              "<table border=\"1\" class=\"dataframe\">\n",
              "  <thead>\n",
              "    <tr style=\"text-align: right;\">\n",
              "      <th></th>\n",
              "      <th>Precip(MM)</th>\n",
              "      <th>Evap(MM)</th>\n",
              "      <th>Tmax(°C)</th>\n",
              "      <th>Tmin(°C)</th>\n",
              "    </tr>\n",
              "  </thead>\n",
              "  <tbody>\n",
              "    <tr>\n",
              "      <th>count</th>\n",
              "      <td>25828.00</td>\n",
              "      <td>6113.00</td>\n",
              "      <td>24972.00</td>\n",
              "      <td>24963.00</td>\n",
              "    </tr>\n",
              "    <tr>\n",
              "      <th>mean</th>\n",
              "      <td>0.64</td>\n",
              "      <td>6.15</td>\n",
              "      <td>29.95</td>\n",
              "      <td>18.13</td>\n",
              "    </tr>\n",
              "    <tr>\n",
              "      <th>std</th>\n",
              "      <td>6.98</td>\n",
              "      <td>2.77</td>\n",
              "      <td>4.00</td>\n",
              "      <td>4.89</td>\n",
              "    </tr>\n",
              "    <tr>\n",
              "      <th>min</th>\n",
              "      <td>0.00</td>\n",
              "      <td>0.00</td>\n",
              "      <td>17.00</td>\n",
              "      <td>1.50</td>\n",
              "    </tr>\n",
              "    <tr>\n",
              "      <th>25%</th>\n",
              "      <td>0.00</td>\n",
              "      <td>4.20</td>\n",
              "      <td>27.00</td>\n",
              "      <td>14.00</td>\n",
              "    </tr>\n",
              "    <tr>\n",
              "      <th>50%</th>\n",
              "      <td>0.00</td>\n",
              "      <td>6.30</td>\n",
              "      <td>30.00</td>\n",
              "      <td>18.00</td>\n",
              "    </tr>\n",
              "    <tr>\n",
              "      <th>75%</th>\n",
              "      <td>0.00</td>\n",
              "      <td>8.10</td>\n",
              "      <td>33.00</td>\n",
              "      <td>22.00</td>\n",
              "    </tr>\n",
              "    <tr>\n",
              "      <th>max</th>\n",
              "      <td>400.00</td>\n",
              "      <td>16.00</td>\n",
              "      <td>44.00</td>\n",
              "      <td>34.00</td>\n",
              "    </tr>\n",
              "  </tbody>\n",
              "</table>\n",
              "</div>"
            ],
            "text/plain": [
              "       Precip(MM)  Evap(MM)  Tmax(°C)  Tmin(°C)\n",
              "count    25828.00   6113.00  24972.00  24963.00\n",
              "mean         0.64      6.15     29.95     18.13\n",
              "std          6.98      2.77      4.00      4.89\n",
              "min          0.00      0.00     17.00      1.50\n",
              "25%          0.00      4.20     27.00     14.00\n",
              "50%          0.00      6.30     30.00     18.00\n",
              "75%          0.00      8.10     33.00     22.00\n",
              "max        400.00     16.00     44.00     34.00"
            ]
          },
          "metadata": {
            "tags": []
          },
          "execution_count": 88
        }
      ]
    },
    {
      "cell_type": "markdown",
      "metadata": {
        "id": "Jvo3769iMI9K"
      },
      "source": [
        "# **Paso 4**\r\n",
        "Analisis de la variable Fecha"
      ]
    },
    {
      "cell_type": "markdown",
      "metadata": {
        "id": "F2pKfVZOMQaB"
      },
      "source": [
        "•Se crea una copia del dataframe"
      ]
    },
    {
      "cell_type": "code",
      "metadata": {
        "id": "lROeD4gpMQq5",
        "colab": {
          "base_uri": "https://localhost:8080/"
        },
        "outputId": "38d4f08f-35ce-4541-dd4b-3cb57cdf51cb"
      },
      "source": [
        "df_copia3 = df_copia2.copy() # Se hace una copia del dataframe\r\n",
        "df_copia3['Fecha'].head() # Se imprime el encabezado"
      ],
      "execution_count": 91,
      "outputs": [
        {
          "output_type": "execute_result",
          "data": {
            "text/plain": [
              "0    01/06/1937\n",
              "1    02/06/1937\n",
              "2    03/06/1937\n",
              "3    04/06/1937\n",
              "4    05/06/1937\n",
              "Name: Fecha, dtype: object"
            ]
          },
          "metadata": {
            "tags": []
          },
          "execution_count": 91
        }
      ]
    },
    {
      "cell_type": "markdown",
      "metadata": {
        "id": "jDNExYSpxN63"
      },
      "source": [
        "•Se convierte el objeto Fecha a formato de fecha que comparte"
      ]
    },
    {
      "cell_type": "code",
      "metadata": {
        "colab": {
          "base_uri": "https://localhost:8080/"
        },
        "id": "JJfLF-YCynCU",
        "outputId": "ba841156-702a-4523-963a-97a3ea3e8f4c"
      },
      "source": [
        "df_copia3['Fecha']=pd.to_datetime(df_copia3['Fecha'], dayfirst=True).copy()\r\n",
        "df_copia3['Fecha'].head()"
      ],
      "execution_count": 93,
      "outputs": [
        {
          "output_type": "execute_result",
          "data": {
            "text/plain": [
              "0   1937-06-01\n",
              "1   1937-06-02\n",
              "2   1937-06-03\n",
              "3   1937-06-04\n",
              "4   1937-06-05\n",
              "Name: Fecha, dtype: datetime64[ns]"
            ]
          },
          "metadata": {
            "tags": []
          },
          "execution_count": 93
        }
      ]
    },
    {
      "cell_type": "markdown",
      "metadata": {
        "id": "nohQggdVzTut"
      },
      "source": [
        "•Se verifica que los datos tengan el formato adecuado"
      ]
    },
    {
      "cell_type": "code",
      "metadata": {
        "colab": {
          "base_uri": "https://localhost:8080/"
        },
        "id": "Ix1p3kzBzUUl",
        "outputId": "b849e65a-603a-4fd3-fc66-efe226a3af01"
      },
      "source": [
        "df_copia3.dtypes"
      ],
      "execution_count": 94,
      "outputs": [
        {
          "output_type": "execute_result",
          "data": {
            "text/plain": [
              "Fecha         datetime64[ns]\n",
              "Precip(MM)           float64\n",
              "Evap(MM)             float64\n",
              "Tmax(°C)             float64\n",
              "Tmin(°C)             float64\n",
              "dtype: object"
            ]
          },
          "metadata": {
            "tags": []
          },
          "execution_count": 94
        }
      ]
    },
    {
      "cell_type": "markdown",
      "metadata": {
        "id": "bgFQNqkf1BmZ"
      },
      "source": [
        "•Se agregan dos columnas, una para el año y otra para el mes"
      ]
    },
    {
      "cell_type": "code",
      "metadata": {
        "id": "lXqIWak21B4J"
      },
      "source": [
        "df_copia3['Año'] = df_copia3['Fecha'].dt.year\r\n",
        "df_copia3['Mes'] = df_copia3['Fecha'].dt.month\r\n"
      ],
      "execution_count": null,
      "outputs": []
    },
    {
      "cell_type": "markdown",
      "metadata": {
        "id": "GgWsyxj74DaX"
      },
      "source": [
        "•Se verifica que se haya agregado exitosamente"
      ]
    },
    {
      "cell_type": "code",
      "metadata": {
        "colab": {
          "base_uri": "https://localhost:8080/"
        },
        "id": "LbCxJt8t4Ftm",
        "outputId": "c910919a-4ba4-4393-e113-2a2b898d9b59"
      },
      "source": [
        "print(df_copia3.head())\r\n",
        "print(df_copia3.tail())"
      ],
      "execution_count": 98,
      "outputs": [
        {
          "output_type": "stream",
          "text": [
            "       Fecha  Precip(MM)  Evap(MM)  Tmax(°C)  Tmin(°C)   Año  Mes\n",
            "0 1937-06-01         0.0       NaN      33.0      11.0  1937    6\n",
            "1 1937-06-02         0.0       NaN      33.0      11.0  1937    6\n",
            "2 1937-06-03         0.0       NaN      33.0      11.0  1937    6\n",
            "3 1937-06-04         0.0       NaN      32.0      11.0  1937    6\n",
            "4 1937-06-05         0.0       NaN      33.0      12.0  1937    6\n",
            "           Fecha  Precip(MM)  Evap(MM)  Tmax(°C)  Tmin(°C)   Año  Mes\n",
            "25846 2017-12-27         0.0       4.1      32.0      19.0  2017   12\n",
            "25847 2017-12-28         0.0       3.5      31.0      18.0  2017   12\n",
            "25848 2017-12-29         0.0       4.4      32.0      19.0  2017   12\n",
            "25849 2017-12-30         0.0       2.5      28.0      20.0  2017   12\n",
            "25850 2017-12-31         0.0       3.3      27.0      20.0  2017   12\n"
          ],
          "name": "stdout"
        }
      ]
    },
    {
      "cell_type": "markdown",
      "metadata": {
        "id": "7xGMy7t14I43"
      },
      "source": [
        "•Por ultimo se verifica que las variables tengan el tipo adecuado"
      ]
    },
    {
      "cell_type": "code",
      "metadata": {
        "colab": {
          "base_uri": "https://localhost:8080/"
        },
        "id": "IS2NLa004J5n",
        "outputId": "60391923-8d64-4c5e-ee64-e3687e6af503"
      },
      "source": [
        "df_copia3.dtypes"
      ],
      "execution_count": 99,
      "outputs": [
        {
          "output_type": "execute_result",
          "data": {
            "text/plain": [
              "Fecha         datetime64[ns]\n",
              "Precip(MM)           float64\n",
              "Evap(MM)             float64\n",
              "Tmax(°C)             float64\n",
              "Tmin(°C)             float64\n",
              "Año                    int64\n",
              "Mes                    int64\n",
              "dtype: object"
            ]
          },
          "metadata": {
            "tags": []
          },
          "execution_count": 99
        }
      ]
    }
  ]
}