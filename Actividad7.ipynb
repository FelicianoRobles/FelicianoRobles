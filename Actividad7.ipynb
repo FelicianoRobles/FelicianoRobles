{
  "nbformat": 4,
  "nbformat_minor": 0,
  "metadata": {
    "colab": {
      "name": "Actividad7.ipynb",
      "provenance": [],
      "authorship_tag": "ABX9TyM4IdzbXM1Ijncw9/maJ7S+",
      "include_colab_link": true
    },
    "kernelspec": {
      "name": "python3",
      "display_name": "Python 3"
    }
  },
  "cells": [
    {
      "cell_type": "markdown",
      "metadata": {
        "id": "view-in-github",
        "colab_type": "text"
      },
      "source": [
        "<a href=\"https://colab.research.google.com/github/FelicianoRobles/FisicaComputacional1/blob/master/Actividad7.ipynb\" target=\"_parent\"><img src=\"https://colab.research.google.com/assets/colab-badge.svg\" alt=\"Open In Colab\"/></a>"
      ]
    },
    {
      "cell_type": "markdown",
      "metadata": {
        "id": "DTmvbWcuB2fM"
      },
      "source": [
        "# Bibliotecas para trabajar con Algebra Lineal"
      ]
    },
    {
      "cell_type": "code",
      "metadata": {
        "id": "n8EB0XsVBYQH"
      },
      "source": [
        "import numpy as np\r\n",
        "import scipy.linalg as la\r\n",
        "from numpy.linalg import matrix_power as mpow\r\n",
        "import matplotlib.pyplot as plt\r\n",
        "import pandas as pd\r\n",
        "import seaborn as sns\r\n",
        "import statsmodels.api as sm\r\n",
        "from datetime import datetime as dt\r\n",
        "import time\r\n",
        "%matplotlib inline"
      ],
      "execution_count": 340,
      "outputs": []
    },
    {
      "cell_type": "markdown",
      "metadata": {
        "id": "-hNF1vwdRGJ8"
      },
      "source": [
        "# Ejercicio 1. Defina las siguientes matrices."
      ]
    },
    {
      "cell_type": "markdown",
      "metadata": {
        "id": "UpXJjbvlRwKp"
      },
      "source": [
        "Definir las matrices:\r\n",
        "\r\n",
        "$\r\n",
        "A=\r\n",
        "\\begin{bmatrix}\r\n",
        "1 & 3 \\\\\r\n",
        "-1 & 7 \r\n",
        "\\end{bmatrix}\r\n",
        "$\r\n",
        "\r\n",
        "$\r\n",
        "B=\r\n",
        "\\begin{bmatrix}\r\n",
        "5 & 2 \\\\\r\n",
        "1 & 2 \r\n",
        "\\end{bmatrix}\r\n",
        "$\r\n",
        "\r\n",
        "$\r\n",
        "I=\r\n",
        "\\begin{bmatrix}\r\n",
        "1 & 0 \\\\\r\n",
        "0 & 1 \r\n",
        "\\end{bmatrix}\r\n",
        "$\r\n",
        "\r\n",
        "Calcule el resultado de $2*I+3*A+A@B$"
      ]
    },
    {
      "cell_type": "code",
      "metadata": {
        "id": "RrESfkasB6UT",
        "colab": {
          "base_uri": "https://localhost:8080/"
        },
        "outputId": "51c74cf5-707f-429e-daa0-a0493e25f596"
      },
      "source": [
        "A=np.array([[1,3],[-1,7]])\r\n",
        "B=np.array([[5,2],[1,2]])\r\n",
        "I=np.array([[1,0],[0,1]])\r\n",
        "print('A=\\n',A,'\\n')\r\n",
        "print('B=\\n',B,'\\n')\r\n",
        "print('I=\\n',I,'\\n')\r\n",
        "P1=2*I+3*A+A@B\r\n",
        "print('2*I+3*A+A@B=\\n',P1,'\\n')"
      ],
      "execution_count": null,
      "outputs": [
        {
          "output_type": "stream",
          "text": [
            "A=\n",
            " [[ 1  3]\n",
            " [-1  7]] \n",
            "\n",
            "B=\n",
            " [[5 2]\n",
            " [1 2]] \n",
            "\n",
            "I=\n",
            " [[1 0]\n",
            " [0 1]] \n",
            "\n",
            "2*I+3*A+A@B=\n",
            " [[13 17]\n",
            " [-1 35]] \n",
            "\n"
          ],
          "name": "stdout"
        }
      ]
    },
    {
      "cell_type": "markdown",
      "metadata": {
        "id": "7gAiqeovQ42d"
      },
      "source": [
        "# Ejercicio 2. Los polinomios característicos y el Teorema de Cayley-Hamilton."
      ]
    },
    {
      "cell_type": "markdown",
      "metadata": {
        "id": "FLE4Xp12VtRz"
      },
      "source": [
        "El polinomio característico de una matriz M esta dado en general por la ecuación$$\r\n",
        "\\det(M - \\lambda I) = 0\r\n",
        "$$Para una matriz cuadrada M (2x2), el polinomio característico se puede escribir como$$\r\n",
        "P_2 (\\lambda) = \\det{(M)} - \\mathrm{tr}(M) \\, \\lambda + \\lambda^2   \r\n",
        "$$y para una matriz cuadrada M (3x3), el polinomio característico resulta ser\r\n",
        "\r\n",
        "$$\r\n",
        "P_3 (\\lambda) = \\frac{1}{6} \r\n",
        "[ \\mathrm{tr}^3 (M) + 2 \\, \\mathrm{tr }(M^3) - 3 \\, \\mathrm{tr}(M) \\mathrm{tr}(M^2) ] - \r\n",
        "\\frac{1}{2} [ \\mathrm{tr}^2 (M) - \\mathrm{tr}(M^2) ] \\lambda + \\mathrm{tr}(M) \\lambda^2 - \\lambda^3\r\n",
        "$$\r\n",
        "El Teorema de Cayley-Hamilton nos dice que una matriz cuadrada M (2x2), satisface el polinomio característico$$\r\n",
        "P_2(M) = \\det(M) - \\mathrm{tr}(M) M + M^2 \r\n",
        "$$y en general cualquier matriz cuadrada M (nxn), satisface $P_n(M)$.\r\n",
        "\r\n",
        "Demuestre esto para cualquier matriz M (2x2), ($\\det(M) \\neq 0$)."
      ]
    },
    {
      "cell_type": "code",
      "metadata": {
        "colab": {
          "base_uri": "https://localhost:8080/"
        },
        "id": "8Aq7GasQZXDj",
        "outputId": "8148fabe-4f07-4740-dbf5-9305760c4dca"
      },
      "source": [
        "Dem=np.array([[8,1],[1,4]])\r\n",
        "print('La matriz A:\\n',Dem,'\\n')\r\n",
        "#Pol2=la.det(Dem)-(np.trace(Dem))*Dem+Dem*Dem\r\n",
        "#print('Al ser distinto de 0, podemos decir que su polinomio caracteristico es=\\n',Pol2,'\\n')\r\n",
        "print('tiene un determinante=',la.det(Dem))\r\n",
        "print('Trazo:',np.trace(Dem))"
      ],
      "execution_count": 360,
      "outputs": [
        {
          "output_type": "stream",
          "text": [
            "La matriz A:\n",
            " [[8 1]\n",
            " [1 4]] \n",
            "\n",
            "tiene un determinante= 31.0\n",
            "Trazo: 12\n"
          ],
          "name": "stdout"
        }
      ]
    },
    {
      "cell_type": "markdown",
      "metadata": {
        "id": "VOee_c7MblQ2"
      },
      "source": [
        "$$P_2(A)=(s-8)(s-4)-31$$\r\n",
        "$$A^2-12A+I=0$$\r\n",
        "\r\n",
        "Coincidiendo con que satisface el Teorema de Cayley-Hamilton que nos dice que una matriz cuadrada M (2x2), satisface el polinomio característico\r\n",
        "$$P_2(M) = \\det(M) - \\mathrm{tr}(M) M + M^2$$"
      ]
    },
    {
      "cell_type": "markdown",
      "metadata": {
        "id": "er3vrac3Q5DD"
      },
      "source": [
        "# Ejercicio 3: Resuelva el sistema de ecuaciones.\r\n",
        "$$\\begin{eqnarray*}\r\n",
        "x - 3 y + z  =  1 \\\\ \\nonumber\r\n",
        "3 x - 4y + z  = 5 \\\\ \\nonumber\r\n",
        "2 y - z  = 0 \\\\ \\nonumber\r\n",
        "\\end{eqnarray*}$$\r\n",
        "\r\n",
        "de dos formas, utilizando el Método de Eliminación Gaussiana y la utilzando la función scipy.linalg.solve()"
      ]
    },
    {
      "cell_type": "markdown",
      "metadata": {
        "id": "PtwfYUw-bGxk"
      },
      "source": [
        "## Primero definimos las funciones necesarias para hacer operaciones para la eliminacion gausianna"
      ]
    },
    {
      "cell_type": "code",
      "metadata": {
        "id": "Vf_7ApbpRYzr"
      },
      "source": [
        "# Intercambio de posición de renglones.\r\n",
        "def cambia_r(A,i,j):\r\n",
        "    \"Intercambiar renglones i y j en la matriz A.\"\r\n",
        "    n = A.shape[0]\r\n",
        "    E = np.eye(n)\r\n",
        "    E[i,i] = 0\r\n",
        "    E[j,j] = 0\r\n",
        "    E[i,j] = 1\r\n",
        "    E[j,i] = 1\r\n",
        "    return E @ A\r\n",
        "\r\n",
        "# Multiplicar un renglón por una constante no nula.\r\n",
        "def mult_r(A,k,i):\r\n",
        "    \"Multiplicar el renglón i por k en la matriz A.\"\r\n",
        "    n = A.shape[0]\r\n",
        "    E = np.eye(n)\r\n",
        "    E[i,i] = k\r\n",
        "    return E @ A\r\n",
        "\r\n",
        "# Sumar un múltiplo de un reglon a otro renglón.\r\n",
        "def suma_r(A,k,i,j):\r\n",
        "    \"Sumar k veces el renglón j al renglón i en la matriz A.\"\r\n",
        "    n = A.shape[0]\r\n",
        "    E = np.eye(n)\r\n",
        "    if i == j:\r\n",
        "        E[i,i] = k + 1\r\n",
        "    else:\r\n",
        "        E[i,j] = k\r\n",
        "    return E @ A"
      ],
      "execution_count": null,
      "outputs": []
    },
    {
      "cell_type": "markdown",
      "metadata": {
        "id": "4EbA4gzPdugy"
      },
      "source": [
        "## Luego resolvemos el sistema de ecuaciones\r\n",
        "$$\\begin{eqnarray*}\r\n",
        "x - 3 y + z  =  1 \\\\ \\nonumber\r\n",
        "3 x - 4y + z  = 5 \\\\ \\nonumber\r\n",
        "2 y - z  = 0 \\\\ \\nonumber\r\n",
        "\\end{eqnarray*}$$"
      ]
    },
    {
      "cell_type": "code",
      "metadata": {
        "colab": {
          "base_uri": "https://localhost:8080/"
        },
        "id": "zmV2iuoZdKvs",
        "outputId": "536bab26-3f1c-4132-c734-d800562947e7"
      },
      "source": [
        "Ec1=np.array([[1,-3,1,1],[3,-4,1,5],[0,-2,-1,0]])\r\n",
        "print('Tenemos el sistema de ecuaciones=\\n',Ec1,'\\n')\r\n",
        "Ec2=suma_r(A,-3,1,0)\r\n",
        "print('Sumamos -3 veces el renglon 1 al renglon 2=\\n',Ec2,'\\n')\r\n",
        "Ec3=mult_r(Ec2,1/5,1)\r\n",
        "print('Dividimos entre 5 el segundo renglon para usarlo como pivote=\\n',Ec3,'\\n')\r\n",
        "Ec4=suma_r(Ec3,3,0,1)\r\n",
        "Ec4=suma_r(Ec4,2,2,1)\r\n",
        "print('Multiplicamos por 3 el segundo renglon, se lo sumamos al primero. Tambien multiplicamos el segundo renglon por 2 y lo sumamos al renglon 3=\\n',Ec4,'\\n')\r\n",
        "Ec5=mult_r(Ec4,-1/1.8,2)\r\n",
        "print('Dividimos entre 1.8 el tercer renglon para usarlo como pivote=\\n',Ec5,'\\n')\r\n",
        "Ec6=suma_r(Ec5,0.4,1,2)\r\n",
        "Ec6=suma_r(Ec6,0.2,0,2)\r\n",
        "\r\n",
        "print('Multiplicamos por 0.2 el tercer renglon, se lo sumamos al primero. Tambien multiplicamos el tercer renglon por 0.4 y lo sumamos al renglon 3=\\n',Ec6,'\\n')\r\n",
        "col=Ec6[0:,3]\r\n",
        "print('Teniendo como resultado por eliminacion gaussiana\\n',col,'\\n')\r\n",
        "\r\n",
        "M=np.array([[1,-3,1],[3,-4,1],[0,-2,-1]])\r\n",
        "b=np.array([[1],[5],[0]])\r\n",
        "x_sol = la.solve(M, b)\r\n",
        "print('Teniendo como resultado por el comando la.solve\\n',x_sol)"
      ],
      "execution_count": null,
      "outputs": [
        {
          "output_type": "stream",
          "text": [
            "Tenemos el sistema de ecuaciones=\n",
            " [[ 1 -3  1  1]\n",
            " [ 3 -4  1  5]\n",
            " [ 0 -2 -1  0]] \n",
            "\n",
            "Sumamos -3 veces el renglon 1 al renglon 2=\n",
            " [[ 1. -3.  1.  1.]\n",
            " [ 0.  5. -2.  2.]\n",
            " [ 0. -2. -1.  0.]] \n",
            "\n",
            "Dividimos entre 5 el segundo renglon para usarlo como pivote=\n",
            " [[ 1.  -3.   1.   1. ]\n",
            " [ 0.   1.  -0.4  0.4]\n",
            " [ 0.  -2.  -1.   0. ]] \n",
            "\n",
            "Multiplicamos por 3 el segundo renglon, se lo sumamos al primero. Tambien multiplicamos el segundo renglon por 2 y lo sumamos al renglon 3=\n",
            " [[ 1.   0.  -0.2  2.2]\n",
            " [ 0.   1.  -0.4  0.4]\n",
            " [ 0.   0.  -1.8  0.8]] \n",
            "\n",
            "Dividimos entre 1.8 el tercer renglon para usarlo como pivote=\n",
            " [[ 1.          0.         -0.2         2.2       ]\n",
            " [ 0.          1.         -0.4         0.4       ]\n",
            " [ 0.          0.          1.         -0.44444444]] \n",
            "\n",
            "Multiplicamos por 0.2 el tercer renglon, se lo sumamos al primero. Tambien multiplicamos el tercer renglon por 0.4 y lo sumamos al renglon 3=\n",
            " [[ 1.00000000e+00  0.00000000e+00 -5.55111512e-17  2.11111111e+00]\n",
            " [ 0.00000000e+00  1.00000000e+00  0.00000000e+00  2.22222222e-01]\n",
            " [ 0.00000000e+00  0.00000000e+00  1.00000000e+00 -4.44444444e-01]] \n",
            "\n",
            "Teniendo como resultado por eliminacion gaussiana\n",
            " [ 2.11111111  0.22222222 -0.44444444] \n",
            "\n",
            "Teniendo como resultado por el comando la.solve\n",
            " [[ 2.11111111]\n",
            " [ 0.22222222]\n",
            " [-0.44444444]]\n"
          ],
          "name": "stdout"
        }
      ]
    },
    {
      "cell_type": "markdown",
      "metadata": {
        "id": "zC5hvomuQ5It"
      },
      "source": [
        "# Ejercicio 4:Dadas las siguientes matrices $B_1, B_2$ y $B_3$\r\n",
        "(Ejemplos del artículo de Wikipedia sobre Eigenvalores y Eigenvectores)\r\n",
        "\r\n",
        "$$\\begin{equation*}\r\n",
        "B_1 = \\begin{bmatrix}\r\n",
        "2 & 0 & 0 \\\\\r\n",
        "0 & 3 & 4 \\\\\r\n",
        "0 & 4 & 9 \\\\\r\n",
        "\\end{bmatrix}\r\n",
        "\\end{equation*}$$$$\\begin{equation*}\r\n",
        "B_2 = \\begin{bmatrix}\r\n",
        "0 & 1 & 0 \\\\\r\n",
        "0 & 0 & 1 \\\\\r\n",
        "1 & 0 & 0 \\\\\r\n",
        "\\end{bmatrix}\r\n",
        "\\end{equation*}$$$$\\begin{equation*}\r\n",
        "B_3 = \\begin{bmatrix}\r\n",
        "2 & 0 & 0 & 0\\\\\r\n",
        "1 & 2 & 0 & 0 \\\\\r\n",
        "0 & 1 & 3 & 0 \\\\\r\n",
        "0 & 0 & 1 & 3 \\\\\r\n",
        "\\end{bmatrix}\r\n",
        "\\end{equation*}$$\r\n",
        "Encuentra los eigenvalores y eigenvectores de cada matriz utilizando la función de scipy.linalg.eig(), y contrasta tus resultados en cada caso con los que se desarrollan en los ejemplos de la Wikipedia.\r\n"
      ]
    },
    {
      "cell_type": "code",
      "metadata": {
        "id": "fOguCgUcRl6j",
        "colab": {
          "base_uri": "https://localhost:8080/"
        },
        "outputId": "4b2a2784-567a-4470-8d43-6d62f46e3a07"
      },
      "source": [
        "B1=np.array([[2,0,0],[0,3,4],[0,4,9]])\r\n",
        "B2=np.array([[0,1,0],[0,0,1],[1,0,0]])\r\n",
        "B3=np.array([[2,0,0,0],[1,2,0,0],[0,1,3,0],[0,0,1,3]])\r\n",
        "eins=la.eig(B1)\r\n",
        "zwei=la.eig(B2)\r\n",
        "drei=la.eig(B3)\r\n",
        "print('Calculando con la funcion la.eig(B1) es=\\n',eins,'\\n')\r\n",
        "print('Calculando con la funcion la.eig(B2) es=\\n',zwei,'\\n')\r\n",
        "print('Calculando con la funcion la.eig(B3) es=\\n',drei,'\\n')"
      ],
      "execution_count": 3,
      "outputs": [
        {
          "output_type": "stream",
          "text": [
            "Calculando con la funcion la.eig(B1) es=\n",
            " (array([11.+0.j,  1.+0.j,  2.+0.j]), array([[ 0.        ,  0.        ,  1.        ],\n",
            "       [ 0.4472136 ,  0.89442719,  0.        ],\n",
            "       [ 0.89442719, -0.4472136 ,  0.        ]])) \n",
            "\n",
            "Calculando con la funcion la.eig(B2) es=\n",
            " (array([-0.5+0.8660254j, -0.5-0.8660254j,  1. +0.j       ]), array([[ 0.57735027+0.j ,  0.57735027-0.j , -0.57735027+0.j ],\n",
            "       [-0.28867513+0.5j, -0.28867513-0.5j, -0.57735027+0.j ],\n",
            "       [-0.28867513-0.5j, -0.28867513+0.5j, -0.57735027+0.j ]])) \n",
            "\n",
            "Calculando con la funcion la.eig(B3) es=\n",
            " (array([3.+0.j, 3.+0.j, 2.+0.j, 2.+0.j]), array([[ 0.00000000e+00,  0.00000000e+00,  0.00000000e+00,\n",
            "         2.56395025e-16],\n",
            "       [ 0.00000000e+00,  0.00000000e+00,  5.77350269e-01,\n",
            "        -5.77350269e-01],\n",
            "       [ 0.00000000e+00,  6.66133815e-16, -5.77350269e-01,\n",
            "         5.77350269e-01],\n",
            "       [ 1.00000000e+00, -1.00000000e+00,  5.77350269e-01,\n",
            "        -5.77350269e-01]])) \n",
            "\n"
          ],
          "name": "stdout"
        }
      ]
    },
    {
      "cell_type": "markdown",
      "metadata": {
        "id": "uUhoPNCOOO09"
      },
      "source": [
        "Resultados obtenidos con la funcion la.eig(B1):\r\n",
        "$$\\begin{equation*}\r\n",
        "eigenvector_{B1}= \\begin{bmatrix}\r\n",
        "0 & 0 & 1\\\\\r\n",
        "0.4472 & 0.8944 & 0\\\\\r\n",
        "0.8944 & -0.4472 & 0\\\\\r\n",
        "\\end{bmatrix}\\\\\r\n",
        "eigenvalores_{B1}=[11,\\,\\,1,\\,\\,2]\r\n",
        "\\\\\r\n",
        "\\end{equation*}$$\r\n",
        "\r\n",
        "Resultados obtenidos con la funcion la.eig(B2):\r\n",
        "$$\\begin{equation*}\r\n",
        "eigenvector_{B2}= \\begin{bmatrix}\r\n",
        "0.5773 & 0.5773 & -0.5773 \\\\\r\n",
        "-0.2887+0.5j & -0.2887-0.5j & -0.5773 \\\\\r\n",
        "-0.2887-0.5j & -0.2887+0.5j & -0.5773 \\\\\r\n",
        "\\end{bmatrix}\\\\\r\n",
        "eigenvalores_{B2}=[-0.5+0.8660j,\\,\\,-0.5-0.8660j,\\,\\,1]\\\\\r\n",
        "\\\\\r\n",
        "\\end{equation*}$$\r\n",
        "\r\n",
        "Resultados obtenidos con la funcion la.eig(B3):\r\n",
        "$$\\begin{equation*}\r\n",
        "eigenvector_{B3}= \\begin{bmatrix}\r\n",
        "0 & 0 & 0 & 2.56 x10^{-16} \\\\\r\n",
        "0 & 0 & 5.7735 x10^{-1} & -5.7735 x10^{-1} \\\\\r\n",
        "0 & 6.6613 x10^{-16} & -5.7735 x10^{-1} & 5.7735 x10^{-1} \\\\\r\n",
        "1 & -1 & 5.7735 x10^{-1} & -5.7735 x10^{-1} \\\\\r\n",
        "\\end{bmatrix}\\\\\r\n",
        "eigenvalores_{B3}=[3,\\,\\,3,\\,\\,2,\\,\\,2]\\\\\r\n",
        "\\\\\r\n",
        "\\end{equation*}$$\r\n",
        "\r\n",
        "Al compararlos con los resultados de wikipedia nos damos cuenta que son aproximadamente iguales, ya que son multiplos de estos si no que en unos casos iguales."
      ]
    },
    {
      "cell_type": "markdown",
      "metadata": {
        "id": "97OW-hyjQ5ND"
      },
      "source": [
        "# Ejercicio 5. Se tienen los siguientes 8 puntos:\r\n",
        "$$\\begin{eqnarray*} \r\n",
        "x,y\\\\\r\n",
        "(0.0,0.0)\\\\ \r\n",
        "(0.5,0.47942)\\\\ \r\n",
        "(1.0,0.84147)\\\\\r\n",
        "(1.5,0.99749)\\\\\r\n",
        "(2.0,0.90930)\\\\\r\n",
        "(2.5,0.59847)\\\\\r\n",
        "(3.0,0.14112)\\\\\r\n",
        "(3.5,-0.35078)\\\\\r\n",
        "\\end{eqnarray*}$$\r\n",
        "Encuentre un polinomio interpolante $p(x)$ que pase por los 8 puntos.\r\n",
        "\r\n",
        "Sobreponga la función $y=\\sin(x)$ y contrástela con el polinomio $p(x)$."
      ]
    },
    {
      "cell_type": "code",
      "metadata": {
        "id": "mBB23fZ8RlgT",
        "colab": {
          "base_uri": "https://localhost:8080/"
        },
        "outputId": "5e52637a-a130-43d9-f2d8-d785576bad32"
      },
      "source": [
        "x = np.array([0,0.5,1,1.5,2,2.5,3,3.5])\r\n",
        "X = np.column_stack([x**k for k in range(0,8)])# Aunque X=np.vander(x,increasing=True) tambien sirve\r\n",
        "print(X)"
      ],
      "execution_count": null,
      "outputs": [
        {
          "output_type": "stream",
          "text": [
            "[[1.00000000e+00 0.00000000e+00 0.00000000e+00 0.00000000e+00\n",
            "  0.00000000e+00 0.00000000e+00 0.00000000e+00 0.00000000e+00]\n",
            " [1.00000000e+00 5.00000000e-01 2.50000000e-01 1.25000000e-01\n",
            "  6.25000000e-02 3.12500000e-02 1.56250000e-02 7.81250000e-03]\n",
            " [1.00000000e+00 1.00000000e+00 1.00000000e+00 1.00000000e+00\n",
            "  1.00000000e+00 1.00000000e+00 1.00000000e+00 1.00000000e+00]\n",
            " [1.00000000e+00 1.50000000e+00 2.25000000e+00 3.37500000e+00\n",
            "  5.06250000e+00 7.59375000e+00 1.13906250e+01 1.70859375e+01]\n",
            " [1.00000000e+00 2.00000000e+00 4.00000000e+00 8.00000000e+00\n",
            "  1.60000000e+01 3.20000000e+01 6.40000000e+01 1.28000000e+02]\n",
            " [1.00000000e+00 2.50000000e+00 6.25000000e+00 1.56250000e+01\n",
            "  3.90625000e+01 9.76562500e+01 2.44140625e+02 6.10351562e+02]\n",
            " [1.00000000e+00 3.00000000e+00 9.00000000e+00 2.70000000e+01\n",
            "  8.10000000e+01 2.43000000e+02 7.29000000e+02 2.18700000e+03]\n",
            " [1.00000000e+00 3.50000000e+00 1.22500000e+01 4.28750000e+01\n",
            "  1.50062500e+02 5.25218750e+02 1.83826562e+03 6.43392969e+03]]\n"
          ],
          "name": "stdout"
        }
      ]
    },
    {
      "cell_type": "code",
      "metadata": {
        "colab": {
          "base_uri": "https://localhost:8080/"
        },
        "id": "hBSGTD4Pfh1u",
        "outputId": "876a75e8-752e-49f3-f4ae-ba7d0b0aaf7a"
      },
      "source": [
        "y=np.array([0,0.47942,0.84147,0.99749,0.90930,0.59847,0.14112,-0.35078]).reshape(8,1)\r\n",
        "print(y)"
      ],
      "execution_count": 220,
      "outputs": [
        {
          "output_type": "stream",
          "text": [
            "[[ 0.     ]\n",
            " [ 0.47942]\n",
            " [ 0.84147]\n",
            " [ 0.99749]\n",
            " [ 0.9093 ]\n",
            " [ 0.59847]\n",
            " [ 0.14112]\n",
            " [-0.35078]]\n"
          ],
          "name": "stdout"
        }
      ]
    },
    {
      "cell_type": "code",
      "metadata": {
        "colab": {
          "base_uri": "https://localhost:8080/"
        },
        "id": "MxCBXxH_fi0F",
        "outputId": "45014cb6-39ad-4f9b-9368-9eb2e0fa7c6b"
      },
      "source": [
        "# Resolviendo asi la ecuacion\r\n",
        "a = la.solve(X,y)\r\n",
        "print(a)"
      ],
      "execution_count": null,
      "outputs": [
        {
          "output_type": "stream",
          "text": [
            "[[ 0.00000000e+00]\n",
            " [ 1.00067181e+00]\n",
            " [-3.70788889e-03]\n",
            " [-1.58867889e-01]\n",
            " [-8.30222222e-03]\n",
            " [ 1.31964444e-02]\n",
            " [-1.54488889e-03]\n",
            " [ 2.46349206e-05]]\n"
          ],
          "name": "stdout"
        }
      ]
    },
    {
      "cell_type": "code",
      "metadata": {
        "colab": {
          "base_uri": "https://localhost:8080/",
          "height": 295
        },
        "id": "VKBYX40Zhlou",
        "outputId": "fd028273-b184-4b4a-b67b-c657b025ce78"
      },
      "source": [
        "# Graficamos el polinomio interpolante y los puntos interpolados\r\n",
        "xs = np.linspace(0,8-1,200)\r\n",
        "ys = sum([a[k]*xs**k for k in range(0,8)])\r\n",
        "seny = np.sin(xs)\r\n",
        "\r\n",
        "plt.plot(x,y,'r.',xs,ys)\r\n",
        "plt.plot(xs,seny, 'g')\r\n",
        "plt.grid()\r\n",
        "plt.title('Grafica del polinomio interpolante p(x)[Azul] y sen(x)[Verde]')\r\n",
        "plt.xlabel('x')\r\n",
        "plt.ylabel('y')\r\n",
        "plt.show()"
      ],
      "execution_count": null,
      "outputs": [
        {
          "output_type": "display_data",
          "data": {
            "image/png": "[encoded data removed]",
            "text/plain": [
              "<Figure size 432x288 with 1 Axes>"
            ]
          },
          "metadata": {
            "tags": [],
            "needs_background": "light"
          }
        }
      ]
    },
    {
      "cell_type": "markdown",
      "metadata": {
        "id": "zcV-_8qcQ5R1"
      },
      "source": [
        "# Ejercicio 6. Regrese a su modelo de análisis de series de tiempo.\r\n",
        "Haga una descomposición de su serie de tiempo de las temperaturas (Tmax y Tmin), y realice una regresión lineal sobre la serie de Tendencia de Temp $(T = a_0 + a_1 t)$. Encuentre si la pendiente es positiva o negativa de la tendencia (signo de $a_1$), es decir si las Temperaturas (Tmax, Tmin) están subiendo o bajando en el periodo analizado.\r\n",
        "\r\n",
        "NOTA: Pueden trabajar en sus Notebooks de la Actividad 5 o 6 y hacer el ajuste de regresión lineal allá donde tienen todo cargado en la memoria y luego copiar unas celdas de texto de esa Notebook y agregarlas al final de su Notebook de la Actividad 7. Así no tienen que cargar a la memoria todas las operaciones."
      ]
    },
    {
      "cell_type": "markdown",
      "metadata": {
        "id": "daHeOPX-9Nw5"
      },
      "source": [
        "## Se preparan los datos y la funcion"
      ]
    },
    {
      "cell_type": "code",
      "metadata": {
        "id": "_M2XA_3nRlFz",
        "colab": {
          "base_uri": "https://localhost:8080/"
        },
        "outputId": "0dec3f86-253b-4e59-bc25-b1a9707c7627"
      },
      "source": [
        "url = 'https://raw.githubusercontent.com/FelicianoRobles/FisicaComputacional1/master/Actividad3/3005.txt' # URL de inf raw\r\n",
        "  \r\n",
        "my_cols = ['Fecha', 'Precip(MM)', 'Evap(MM)', 'Tmax(°C)', 'Tmin(°C)'] # Nombre a columnas\r\n",
        "df_dist = pd.read_csv(url, names=my_cols, encoding='cp1251', sep='\\s+', header=None, skiprows=19, skipfooter=1, engine='python') # Leer\r\n",
        "\r\n",
        "df_w1 = df_dist.copy() # Se hace una copia del dataframe\r\n",
        "\r\n",
        "str_Nulo = 'Nulo'\r\n",
        "df_w2 = df_w1.replace(to_replace=str_Nulo, value='', regex=True) # Reemplazar Nulo por un espacio en blanco\r\n",
        "\r\n",
        "cols_list = ['Precip(MM)', 'Evap(MM)', 'Tmax(°C)', 'Tmin(°C)']\r\n",
        "for cols in cols_list:\r\n",
        "  df_w2[cols] = pd.to_numeric(df_w2[cols], errors='coerce') # Se convierten a números flotantes \r\n",
        "#df_w2.info()\r\n",
        "\r\n",
        "# De la instrucción anterior, vemos que hay valores faltantes. Sumamos los valores nulos. \r\n",
        "df_w2.isnull().sum()\r\n",
        "\r\n",
        "# Un análisis estadístico breve de las variables numéricas redondeado a 2 cifras significativas\r\n",
        "df_w2.describe().round(2)\r\n",
        "\r\n",
        "df_w3 = df_w2.copy() # Se hace una copia del dataframe\r\n",
        "\r\n",
        "df_w3['Fecha']=pd.to_datetime(df_w3['Fecha'], dayfirst=True).copy() # Primer dato que sea dia\r\n",
        "#df_w3['year'] = df_w3['Fecha'].dt.year # Columna de año\r\n",
        "#df_w3['month'] = df_w3['Fecha'].dt.month # Columna de mes\r\n",
        "#df_w3['Precip(MM)']=df_w3.index\r\n",
        "df_w3.dtypes # Verificar tipos\r\n",
        "start, end = '2001-01', '2015-10'\r\n",
        "df_meteo = df_w3.loc[start:end].copy()\r\n",
        "\r\n",
        "#df_meteo = df_w3.copy() # Archico con que trabajar actividad 4\r\n",
        "# df_meteo.info()\r\n",
        "print(df_meteo.head())\r\n",
        "print(df_meteo.tail())\r\n",
        "#df_meteo['Tmax(°C)'].isnull().values.any()\r\n",
        "#df_meteo['Tmin(°C)'].isnull().values.any()"
      ],
      "execution_count": 350,
      "outputs": [
        {
          "output_type": "stream",
          "text": [
            "           Fecha  Precip(MM)  Evap(MM)  Tmax(°C)  Tmin(°C)\n",
            "20010 2001-12-04         0.0       NaN      30.0      18.0\n",
            "20011 2001-12-05         0.0       NaN      31.0      18.0\n",
            "20012 2001-12-06         0.0       NaN      27.0      17.0\n",
            "20013 2001-12-07         0.0       NaN      29.0      21.0\n",
            "20014 2001-12-08         0.0       NaN      34.0      20.0\n",
            "           Fecha  Precip(MM)  Evap(MM)  Tmax(°C)  Tmin(°C)\n",
            "20145 2002-04-18         0.0       6.5      29.0      18.0\n",
            "20146 2002-04-19         0.0       6.6      30.0      19.0\n",
            "20147 2002-04-20         0.0       7.5      31.0      19.0\n",
            "20148 2002-04-21         0.0       5.3      30.0      17.0\n",
            "20149 2002-04-22         0.0       7.8      31.0      18.0\n"
          ],
          "name": "stdout"
        }
      ]
    },
    {
      "cell_type": "markdown",
      "metadata": {
        "id": "Jgxs7kA52oXg"
      },
      "source": [
        "Definir la funcion que convierte la fecha a decimal"
      ]
    },
    {
      "cell_type": "code",
      "metadata": {
        "id": "93DiSQ3JoA0Z"
      },
      "source": [
        "from datetime import datetime as dt\r\n",
        "import time\r\n",
        "\r\n",
        "def toYearFraction(date):\r\n",
        "    def sinceEpoch(date): # returns seconds since epoch\r\n",
        "        return time.mktime(date.timetuple())\r\n",
        "    s = sinceEpoch\r\n",
        "\r\n",
        "    year = date.year\r\n",
        "    startOfThisYear = dt(year=year, month=1, day=1)\r\n",
        "    startOfNextYear = dt(year=year+1, month=1, day=1)\r\n",
        "\r\n",
        "    yearElapsed = s(date) - s(startOfThisYear)\r\n",
        "    yearDuration = s(startOfNextYear) - s(startOfThisYear)\r\n",
        "    fraction = yearElapsed/yearDuration\r\n",
        "\r\n",
        "    return date.year + fraction"
      ],
      "execution_count": 351,
      "outputs": []
    },
    {
      "cell_type": "markdown",
      "metadata": {
        "id": "jdKU_6Lo2LmB"
      },
      "source": [
        "## Convertimos la fecha a decimal en una nueva columna 'FechaDecimal'"
      ]
    },
    {
      "cell_type": "code",
      "metadata": {
        "colab": {
          "base_uri": "https://localhost:8080/"
        },
        "id": "b3ZHMm5doHkI",
        "outputId": "5b7fbd26-c614-42e4-d455-20eb8294fdb3"
      },
      "source": [
        "df_act=df_meteo # Se trabajara con este dataframe\r\n",
        "df_act['FechaDecimal']=df_meteo['Tmax(°C)'] # Se crea una columna copiando otra \r\n",
        "del(df_act['Precip(MM)']) # Se elimina\r\n",
        "del(df_act['Evap(MM)']) # Se elimina\r\n",
        "\r\n",
        "N=len(df_act) # Longitud del dataframe\r\n",
        "\r\n",
        "for x in range(N): #Repetir por todo el rango del dataframe\r\n",
        "  index=x\r\n",
        "  df_act['FechaDecimal'].iloc[index]=toYearFraction(df_act['Fecha'].iloc[index]) # Hacer decimal la fecha\r\n",
        "\r\n",
        "del(df_act['Fecha']) # Se elimina\r\n",
        "df_act= df_act.astype(float) # Cambiar los tipos\r\n",
        "\r\n",
        "print(df_act.head())\r\n",
        "print(df_act.tail())\r\n",
        "df_act.dtypes"
      ],
      "execution_count": 352,
      "outputs": [
        {
          "output_type": "stream",
          "text": [
            "       Tmax(°C)  Tmin(°C)  FechaDecimal\n",
            "20010      30.0      18.0   2001.923288\n",
            "20011      31.0      18.0   2001.926027\n",
            "20012      27.0      17.0   2001.928767\n",
            "20013      29.0      21.0   2001.931507\n",
            "20014      34.0      20.0   2001.934247\n",
            "       Tmax(°C)  Tmin(°C)  FechaDecimal\n",
            "20145      29.0      18.0   2002.293151\n",
            "20146      30.0      19.0   2002.295890\n",
            "20147      31.0      19.0   2002.298630\n",
            "20148      30.0      17.0   2002.301370\n",
            "20149      31.0      18.0   2002.304110\n"
          ],
          "name": "stdout"
        },
        {
          "output_type": "stream",
          "text": [
            "/usr/local/lib/python3.7/dist-packages/pandas/core/indexing.py:670: SettingWithCopyWarning: \n",
            "A value is trying to be set on a copy of a slice from a DataFrame\n",
            "\n",
            "See the caveats in the documentation: https://pandas.pydata.org/pandas-docs/stable/user_guide/indexing.html#returning-a-view-versus-a-copy\n",
            "  iloc._setitem_with_indexer(indexer, value)\n"
          ],
          "name": "stderr"
        },
        {
          "output_type": "execute_result",
          "data": {
            "text/plain": [
              "Tmax(°C)        float64\n",
              "Tmin(°C)        float64\n",
              "FechaDecimal    float64\n",
              "dtype: object"
            ]
          },
          "metadata": {
            "tags": []
          },
          "execution_count": 352
        }
      ]
    },
    {
      "cell_type": "markdown",
      "metadata": {
        "id": "m2vEjpx69VFA"
      },
      "source": [
        "Construimos la matriz de Vandermonde"
      ]
    },
    {
      "cell_type": "code",
      "metadata": {
        "colab": {
          "base_uri": "https://localhost:8080/"
        },
        "id": "W9Jnb9X13SJf",
        "outputId": "96007423-8592-479d-906a-9a0a942a1428"
      },
      "source": [
        "x=df_act['FechaDecimal']\r\n",
        "X=np.column_stack([np.ones(N),x])\r\n",
        "print('Shape:', X.shape)"
      ],
      "execution_count": 353,
      "outputs": [
        {
          "output_type": "stream",
          "text": [
            "Shape: (140, 2)\n"
          ],
          "name": "stdout"
        }
      ]
    },
    {
      "cell_type": "markdown",
      "metadata": {
        "id": "_L7pYtTU9ZZY"
      },
      "source": [
        "Construimos las matrices \"y\""
      ]
    },
    {
      "cell_type": "code",
      "metadata": {
        "id": "k96KiSez_8zJ"
      },
      "source": [
        "ymax=np.array(df_act['Tmax(°C)'])\r\n",
        "ymin=np.array(df_act['Tmin(°C)'])"
      ],
      "execution_count": 354,
      "outputs": []
    },
    {
      "cell_type": "markdown",
      "metadata": {
        "id": "mYqf3FyS9eSA"
      },
      "source": [
        "Usamos la función scipy.linalg.solve() para resolver la ecuación X.T@X@a = X.T@y respecto a 'a'"
      ]
    },
    {
      "cell_type": "code",
      "metadata": {
        "colab": {
          "base_uri": "https://localhost:8080/"
        },
        "id": "cUfA5JR29hDh",
        "outputId": "48245fd7-4a11-4491-85fd-a68e0af8f7e9"
      },
      "source": [
        "amax = la.solve(X.T @ X, X.T @ ymax)\r\n",
        "amin = la.solve(X.T @ X, X.T @ ymin)\r\n",
        "print('Para Tmax')\r\n",
        "print(amax)\r\n",
        "print('Para Tmin')\r\n",
        "print(amin)"
      ],
      "execution_count": 355,
      "outputs": [
        {
          "output_type": "stream",
          "text": [
            "Para Tmax\n",
            "[-1.58082922e+04  7.90962969e+00]\n",
            "Para Tmin\n",
            "[-1.31255078e+04  6.56315691e+00]\n"
          ],
          "name": "stdout"
        }
      ]
    },
    {
      "cell_type": "markdown",
      "metadata": {
        "id": "VTJ8DhAFPf_n"
      },
      "source": [
        "Obteniendo de esa manera $a_0$ y $a_1$ de Tmax:\r\n",
        "$$a_0\\approx-1.58x10^{4}$$\r\n",
        "$$a_1\\approx7.90$$\r\n",
        "\r\n",
        "Y tambien $a_0$ y $a_1$ de Tmin:\r\n",
        "$$a_0\\approx-1.31x10^{4}$$\r\n",
        "$$a_1\\approx6.56$$\r\n"
      ]
    },
    {
      "cell_type": "markdown",
      "metadata": {
        "id": "qR71NMaG9jMw"
      },
      "source": [
        "Obteniendo las aproximaciones lineales \\\\\r\n",
        "Para Tmax:$$Tmax=-1.58x10^{4}+7.90t$$\r\n",
        "Para Tmin:$$Tmin=-1.31x10^{4}+6.56t$$"
      ]
    },
    {
      "cell_type": "markdown",
      "metadata": {
        "id": "8c8EMBIURsZn"
      },
      "source": [
        "Asi que en base a esto podemos concluir que durante el periodo analizado, la temperatura aumento ya que la pendiente de la aproximacion lineal es positiva. "
      ]
    }
  ]
}