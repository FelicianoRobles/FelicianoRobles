{
  "nbformat": 4,
  "nbformat_minor": 0,
  "metadata": {
    "colab": {
      "name": "Actividad2.ipynb",
      "provenance": [],
      "toc_visible": true,
      "authorship_tag": "ABX9TyPIoOMzPwnP7mKVsztm0QVd"
    },
    "kernelspec": {
      "name": "python3",
      "display_name": "Python 3"
    }
  },
  "cells": [
    {
      "cell_type": "markdown",
      "metadata": {
        "id": "BlfG1BdDuRdo"
      },
      "source": [
        "# **Ejercicio 1**\r\n",
        "---"
      ]
    },
    {
      "cell_type": "markdown",
      "metadata": {
        "id": "JMDXFBYtupA6"
      },
      "source": [
        "##Ejemplo"
      ]
    },
    {
      "cell_type": "code",
      "metadata": {
        "colab": {
          "base_uri": "https://localhost:8080/"
        },
        "id": "DRPFNZSmuUYM",
        "outputId": "1598507b-0362-4aee-ea37-73e92116ea0d"
      },
      "source": [
        "# Se define una función de 2 variables para calcular el área.  \r\n",
        "def area(x, y):\r\n",
        "    return x*y\r\n",
        "\r\n",
        "print(\"Proporciona el largo y altura del rectángulo: \", end=\"\")\r\n",
        "l = float(input())\r\n",
        "w = float(input())\r\n",
        "a = area(l, w)\r\n",
        "# Imprime el valor del área en formato libre.\r\n",
        "print(\"\\nArea = \", a)\r\n",
        "# Imprime el valor del área con 2 decimales. \r\n",
        "print(\"\\nArea = {:.2f}\".format(a))"
      ],
      "execution_count": null,
      "outputs": [
        {
          "output_type": "stream",
          "text": [
            "Proporciona el largo y altura del rectángulo: \n",
            "5\n",
            "5\n",
            "\n",
            "Area =  25.0\n",
            "\n",
            "Area = 25.00\n"
          ],
          "name": "stdout"
        }
      ]
    },
    {
      "cell_type": "markdown",
      "metadata": {
        "id": "2D8B946QuxWs"
      },
      "source": [
        "##Area de un circulo\r\n",
        "En este codigo se calcula el area de un circuo de radio \"r\" mediante la formula $(\\pi)(r^2)$\r\n"
      ]
    },
    {
      "cell_type": "code",
      "metadata": {
        "id": "cUjy_u36uWRc"
      },
      "source": [
        "#Paquete necesario\r\n",
        "import numpy as np\r\n",
        "#Funcion para calcular el área.  \r\n",
        "def area(r):\r\n",
        "    return np.pi*r\r\n",
        "\r\n",
        "print(\"Proporciona el radio del circulo: \", end=\"\")\r\n",
        "r = float(input())\r\n",
        "\r\n",
        "#Se calcula el area\r\n",
        "a = area(r)\r\n",
        "# Se imprime el valor del área con 4 decimales. \r\n",
        "print(\"\\nArea = {:.4f}\".format(a))"
      ],
      "execution_count": null,
      "outputs": []
    },
    {
      "cell_type": "markdown",
      "metadata": {
        "id": "0mEoDeJ9u2gk"
      },
      "source": [
        "##Area de una elipse\r\n",
        "En este codigo se calcula el area de una elipse de semieje mayor \"a\" y semieje menor \"b\" con la formula: $(\\pi)(a)(b)$"
      ]
    },
    {
      "cell_type": "code",
      "metadata": {
        "id": "IUSBiJcXu3WA",
        "colab": {
          "base_uri": "https://localhost:8080/"
        },
        "outputId": "cfded51d-eb55-4266-8a5a-f950a2b21468"
      },
      "source": [
        "#Paquete necesario\r\n",
        "import numpy as np\r\n",
        "#Funcion para calcular el área.  \r\n",
        "def area(a,b):\r\n",
        "    return np.pi*a*b\r\n",
        "\r\n",
        "print(\"Proporciona el semieje mayor de la elipse: \")\r\n",
        "a = float(input())\r\n",
        "\r\n",
        "print(\"Proporciona el semieje menor de la elipse: \")\r\n",
        "b = float(input())\r\n",
        "\r\n",
        "#Se calcula el area\r\n",
        "a = area(a,b)\r\n",
        "# Se imprime el valor del área con 4 decimales. \r\n",
        "print(\"\\nArea = {:.4f}\".format(a))"
      ],
      "execution_count": null,
      "outputs": [
        {
          "output_type": "stream",
          "text": [
            "Proporciona el semieje mayor de la elipse: \n",
            "5\n",
            "Proporciona el semieje menor de la elipse: \n",
            "10\n",
            "\n",
            "Area = 157.0796\n"
          ],
          "name": "stdout"
        }
      ]
    },
    {
      "cell_type": "markdown",
      "metadata": {
        "id": "3EAeXAZdvOZv"
      },
      "source": [
        "##Volumen de una esfera\r\n",
        "En este codigo se calcula el volumen de una esfera de radio \"r\" con la formula: $(\\frac{4}{3})(\\pi)(r^3)$"
      ]
    },
    {
      "cell_type": "code",
      "metadata": {
        "colab": {
          "base_uri": "https://localhost:8080/"
        },
        "id": "6sT0mrRnvQqb",
        "outputId": "870f5ad2-db18-4236-889d-356103b6d13f"
      },
      "source": [
        "#Paquete necesario\r\n",
        "import numpy as np\r\n",
        "#Funcion para calcular el volumen.  \r\n",
        "def volumen(r):\r\n",
        "    return 4/3*np.pi*r**3\r\n",
        "\r\n",
        "print(\"Proporciona el radio de la esfera: \", end=\"\")\r\n",
        "r = float(input())\r\n",
        "\r\n",
        "#Se calcula el Volumen\r\n",
        "a = volumen(r)\r\n",
        "# Se imprime el valor del Volumen con 4 decimales. \r\n",
        "print(\"\\nVolumen = {:.4f}\".format(a))"
      ],
      "execution_count": null,
      "outputs": [
        {
          "output_type": "stream",
          "text": [
            "Proporciona el radio de la esfera: 2\n",
            "\n",
            "Area = 33.5103\n"
          ],
          "name": "stdout"
        }
      ]
    },
    {
      "cell_type": "markdown",
      "metadata": {
        "id": "Rq3fcqVovRL_"
      },
      "source": [
        "##Volumen de un cilindro circular\r\n",
        "En este codigo se calcula el volumen de un cilindro circular altura \"h\" y radio de base \"r\" con la formula: $(\\pi)(r^2)(h)$"
      ]
    },
    {
      "cell_type": "code",
      "metadata": {
        "colab": {
          "base_uri": "https://localhost:8080/"
        },
        "id": "qLqP7cXSvUF8",
        "outputId": "d655b43f-6e28-48a0-de3e-a4c58c3d0bb4"
      },
      "source": [
        "#Paquete necesario\r\n",
        "import numpy as np\r\n",
        "#Funcion para calcular el volumen.  \r\n",
        "def volumen(r,h):\r\n",
        "    return np.pi*r**2*h\r\n",
        "\r\n",
        "print(\"Proporciona el radio de la esfera: \", end=\"\")\r\n",
        "r = float(input())\r\n",
        "\r\n",
        "print(\"Proporciona el radio de la esfera: \", end=\"\")\r\n",
        "h = float(input())\r\n",
        "\r\n",
        "#Se calcula el Volumen\r\n",
        "a = volumen(r,h)\r\n",
        "# Se imprime el valor del Volumen con 4 decimales. \r\n",
        "print(\"\\nVolumen = {:.4f}\".format(a))"
      ],
      "execution_count": null,
      "outputs": [
        {
          "output_type": "stream",
          "text": [
            "Proporciona el radio de la esfera: 2\n",
            "Proporciona el radio de la esfera: 2\n",
            "\n",
            "Volumen = 25.1327\n"
          ],
          "name": "stdout"
        }
      ]
    },
    {
      "cell_type": "markdown",
      "metadata": {
        "id": "Vpg5UFLs3svo"
      },
      "source": [
        "#**Ejercicio 2**\r\n",
        "---"
      ]
    },
    {
      "cell_type": "markdown",
      "metadata": {
        "id": "Fg1VrTIs32yJ"
      },
      "source": [
        "##Calcular las raices cuadradas\r\n",
        "En este codigo se calcula las soluciones de una ecuacion cuadratica de la forma: $ax^2+bx+c=0$"
      ]
    },
    {
      "cell_type": "code",
      "metadata": {
        "id": "WaPOMRSH30Ii",
        "colab": {
          "base_uri": "https://localhost:8080/"
        },
        "outputId": "4f9d95a1-4617-440d-9190-88c9f99a29f7"
      },
      "source": [
        "#Paquete necesario\r\n",
        "import math\r\n",
        "\r\n",
        "#Funcion para calcular el determinante\r\n",
        "def det(a,b,c):\r\n",
        "  return b**2-4*a*c\r\n",
        "\r\n",
        "print(\"Introduzca el coeficiente del termino cuadratico\",end=\"\\n\")\r\n",
        "a = float(input())\r\n",
        "\r\n",
        "print(\"Introduzca el coeficiente del termino lineal\",end=\"\\n\")\r\n",
        "b = float(input())\r\n",
        "\r\n",
        "print(\"Introduzca el coeficiente del termino independiente\",end=\"\\n\")\r\n",
        "c = float(input())\r\n",
        "\r\n",
        "#Se calcula el determinante\r\n",
        "d = det(a,b,c)\r\n",
        "\r\n",
        "#Se comprueba si es real o compleja la raiz\r\n",
        "if d<0:\r\n",
        "  print(\"La raiz es compleja\")\r\n",
        "else:\r\n",
        "    #Se calcula la solucion con determinante positivo\r\n",
        "    x1 = (-b+math.sqrt(d))/2*a\r\n",
        "    #Se calcula la solucion con determinante negativo\r\n",
        "    x2 = (-b-math.sqrt(d))/2*a\r\n",
        "    print()#Espacio\r\n",
        "    print(f\"Las raices son {x1} y {x2}\")"
      ],
      "execution_count": null,
      "outputs": [
        {
          "output_type": "stream",
          "text": [
            "Introduzca el coeficiente del termino cuadratico\n",
            "1\n",
            "Introduzca el coeficiente del termino lineal\n",
            "2\n",
            "Introduzca el coeficiente del termino independiente\n",
            "1\n",
            "\n",
            "Las raices son -1.0 y -1.0\n"
          ],
          "name": "stdout"
        }
      ]
    },
    {
      "cell_type": "markdown",
      "metadata": {
        "id": "typNdbbmxA_R"
      },
      "source": [
        "#**Ejercicio 3**"
      ]
    },
    {
      "cell_type": "markdown",
      "metadata": {
        "id": "KaOi8hwYxH8p"
      },
      "source": [
        "##Método Babilonio\r\n",
        "En este codigo implemente el metodo babilonio para aproximarse a una raiz cuadrada de un numero cuando la sucesion converge a un error deseado, y al final el valor obtenido es comparado con el comando de sqrt de la paqueteria numpy"
      ]
    },
    {
      "cell_type": "code",
      "metadata": {
        "id": "0mfCNoGcxXJT",
        "colab": {
          "base_uri": "https://localhost:8080/"
        },
        "outputId": "c4bb70fb-cd26-4e5c-f79c-89b8c55d1cf3"
      },
      "source": [
        "#Paquete necesario\r\n",
        "import numpy as np\r\n",
        "\r\n",
        "print(\"Introduzca el numero cuya raiz desea calcular\",end=\"\\n\")\r\n",
        "S = float(input())\r\n",
        "\r\n",
        "print(\"Introduzca un numero aproximado de la raiz o simplemente menor al introducido\",end=\"\\n\")\r\n",
        "x = float(input())\r\n",
        "\r\n",
        "print(\"Introduzca el margen de error decimal deseado\",end=\"\\n\")\r\n",
        "e = float(input())\r\n",
        "\r\n",
        "#Contador\r\n",
        "i=0\r\n",
        "#Se inicia el proceso\r\n",
        "while i==0:\r\n",
        "  #La raiz cumple con el margen de error?\r\n",
        "  if (S/x+e)>=x>=(S/x-e):\r\n",
        "    print()#Espacio\r\n",
        "    print(f\"La raiz de {S} usando el metodo babilonio con una tolerancia de {e} es \\n {x}\")\r\n",
        "    print()#Espacio\r\n",
        "    print(f\"La raiz utilizando el paquete numpy es \\n {np.sqrt(S)}\")\r\n",
        "    i=1\r\n",
        "  else:\r\n",
        "    #Iteracion\r\n",
        "      x = (S/x+x)/2"
      ],
      "execution_count": null,
      "outputs": [
        {
          "output_type": "stream",
          "text": [
            "Introduzca el numero cuya raiz desea calcular\n",
            "25\n",
            "Introduzca un numero aproximado de la raiz o simplemente menor al introducido\n",
            "24\n",
            "Introduzca el margen de error decimal deseado\n",
            "0.01\n",
            "\n",
            "La raiz de 25.0 usando el metodo babilonio con una tolerancia de 0.01 es \n",
            " 5.000013285560295\n",
            "\n",
            "La raiz utilizando el paquete numpy es \n",
            " 5.0\n"
          ],
          "name": "stdout"
        }
      ]
    },
    {
      "cell_type": "markdown",
      "metadata": {
        "id": "NSMTWrcOxmHF"
      },
      "source": [
        "#**Ejercicio 4**\r\n",
        "En este codigo se grafica las curvas de la aproximacion de Taylor de la funcion $ln(1+x)$ de grado 4, 7, 11, 16. Acompañadas de la curva de la funcion original "
      ]
    },
    {
      "cell_type": "markdown",
      "metadata": {
        "id": "2zzNTWEHxrrN"
      },
      "source": [
        "##Reproduce la figura"
      ]
    },
    {
      "cell_type": "code",
      "metadata": {
        "id": "RZHP6Mjuxu4G",
        "colab": {
          "base_uri": "https://localhost:8080/",
          "height": 813
        },
        "outputId": "814e0b3f-e2ac-452a-b695-c03b4211545c"
      },
      "source": [
        "#Paquetes necesarios\r\n",
        "import matplotlib.pyplot as plt\r\n",
        "import numpy as np\r\n",
        "\r\n",
        "#Tamaño de la grafica\r\n",
        "plt.figure(figsize=(10, 13))\r\n",
        "#Limites verticales\r\n",
        "plt.ylim(-4,2)\r\n",
        "#Limites Horizontales\r\n",
        "plt.xlim(-1.5,1.5)\r\n",
        "#Cuadricula\r\n",
        "plt.grid()\r\n",
        "#Rango de valores x\r\n",
        "x = np.linspace(-1.5,1.5,100)\r\n",
        "\r\n",
        "#Se grafica la aproximacion de Taylor de grado 4 en 0\r\n",
        "y4 = x-x**2/2+x**3/3-x**4/4\r\n",
        "plt.plot(x,y4,label=\"T4\",color='red')\r\n",
        "\r\n",
        "#Se grafica la aproximacion de Taylor de grado 7 en 0\r\n",
        "\r\n",
        "y7 = x-x**2/2+x**3/3-x**4/4+x**5/5-x**6/6+x**7/7\r\n",
        "plt.plot(x,y7,label=\"T7\",color='green')\r\n",
        "\r\n",
        "#Se grafica la aproximacion de Taylor de grado 11 en 0\r\n",
        "\r\n",
        "y11 = x-x**2/2+x**3/3-x**4/4+x**5/5-x**6/6+x**7/7-x**8/8+x**9/9-x**10/10+x**11/11\r\n",
        "plt.plot(x,y11,label=\"T11\",color='blue')\r\n",
        "\r\n",
        "#Se grafica la aproximacion de Taylor de grado 16 en 0\r\n",
        "\r\n",
        "y16 = x-x**2/2+x**3/3-x**4/4+x**5/5-x**6/6+x**7/7-x**8/8+x**9/9-x**10/10+x**11/11-x**12/12+x**13/13-x**14/14+x**15/15-x**16/16\r\n",
        "plt.plot(x,y16,label=\"T16\",color='cyan')\r\n",
        "\r\n",
        "#Se grafica la funcion original\r\n",
        "y = np.log(1+x)\r\n",
        "plt.plot(x,y,label=\"log(1+x)\",color='orange')\r\n",
        "\r\n",
        "#Se acomodan las legendas en la esquina superior izquierda\r\n",
        "plt.legend(loc='upper left') \r\n"
      ],
      "execution_count": null,
      "outputs": [
        {
          "output_type": "stream",
          "text": [
            "/usr/local/lib/python3.6/dist-packages/ipykernel_launcher.py:36: RuntimeWarning: invalid value encountered in log\n"
          ],
          "name": "stderr"
        },
        {
          "output_type": "execute_result",
          "data": {
            "text/plain": [
              "<matplotlib.legend.Legend at 0x7f37309a8d68>"
            ]
          },
          "metadata": {
            "tags": []
          },
          "execution_count": 155
        },
        {
          "output_type": "display_data",
          "data": {
            "image/png": "[encoded data removed]",
            "text/plain": [
              "<Figure size 720x936 with 1 Axes>"
            ]
          },
          "metadata": {
            "tags": [],
            "needs_background": "light"
          }
        }
      ]
    },
    {
      "cell_type": "code",
      "metadata": {
        "id": "A6V_VSePmcZL"
      },
      "source": [
        ""
      ],
      "execution_count": null,
      "outputs": []
    }
  ]
}